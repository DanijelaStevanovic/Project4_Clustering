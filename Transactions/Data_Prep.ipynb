{
 "cells": [
  {
   "cell_type": "markdown",
   "metadata": {},
   "source": [
    "# Transactions Data Preparation\n",
    "---\n",
    "---"
   ]
  },
  {
   "cell_type": "code",
   "execution_count": null,
   "metadata": {},
   "outputs": [],
   "source": []
  },
  {
   "cell_type": "markdown",
   "metadata": {},
   "source": [
    "### Import Libraries\n",
    "---"
   ]
  },
  {
   "cell_type": "code",
   "execution_count": 1,
   "metadata": {},
   "outputs": [],
   "source": [
    "import pandas as pd\n",
    "import numpy as np\n",
    "import seaborn as sns\n",
    "\n",
    "import sklearn\n",
    "from sklearn.decomposition import PCA\n",
    "import matplotlib.pyplot as plt\n",
    "import os.path"
   ]
  },
  {
   "cell_type": "code",
   "execution_count": 2,
   "metadata": {},
   "outputs": [],
   "source": [
    "import warnings\n",
    "warnings.filterwarnings('ignore')"
   ]
  },
  {
   "cell_type": "markdown",
   "metadata": {},
   "source": [
    "### Import Data\n",
    "---"
   ]
  },
  {
   "cell_type": "markdown",
   "metadata": {},
   "source": []
  },
  {
   "cell_type": "code",
   "execution_count": 3,
   "metadata": {},
   "outputs": [],
   "source": [
    "df = pd.read_csv('data/twm_transactions.csv', delimiter=';')"
   ]
  },
  {
   "cell_type": "code",
   "execution_count": 4,
   "metadata": {},
   "outputs": [
    {
     "data": {
      "text/html": [
       "<div>\n",
       "<style scoped>\n",
       "    .dataframe tbody tr th:only-of-type {\n",
       "        vertical-align: middle;\n",
       "    }\n",
       "\n",
       "    .dataframe tbody tr th {\n",
       "        vertical-align: top;\n",
       "    }\n",
       "\n",
       "    .dataframe thead th {\n",
       "        text-align: right;\n",
       "    }\n",
       "</style>\n",
       "<table border=\"1\" class=\"dataframe\">\n",
       "  <thead>\n",
       "    <tr style=\"text-align: right;\">\n",
       "      <th></th>\n",
       "      <th>tran_id</th>\n",
       "      <th>acct_nbr</th>\n",
       "      <th>tran_amt</th>\n",
       "      <th>principal_amt</th>\n",
       "      <th>interest_amt</th>\n",
       "      <th>new_balance</th>\n",
       "      <th>tran_date</th>\n",
       "      <th>tran_time</th>\n",
       "      <th>channel</th>\n",
       "      <th>tran_code</th>\n",
       "    </tr>\n",
       "  </thead>\n",
       "  <tbody>\n",
       "    <tr>\n",
       "      <th>0</th>\n",
       "      <td>27</td>\n",
       "      <td>13625623</td>\n",
       "      <td>0.00</td>\n",
       "      <td>0.00</td>\n",
       "      <td>0.0</td>\n",
       "      <td>3753.34</td>\n",
       "      <td>21.10.1995</td>\n",
       "      <td>121656</td>\n",
       "      <td>A</td>\n",
       "      <td>IQ</td>\n",
       "    </tr>\n",
       "    <tr>\n",
       "      <th>1</th>\n",
       "      <td>97</td>\n",
       "      <td>13628392</td>\n",
       "      <td>0.00</td>\n",
       "      <td>0.00</td>\n",
       "      <td>0.0</td>\n",
       "      <td>254.49</td>\n",
       "      <td>5.2.1995</td>\n",
       "      <td>153053</td>\n",
       "      <td>V</td>\n",
       "      <td>IQ</td>\n",
       "    </tr>\n",
       "    <tr>\n",
       "      <th>2</th>\n",
       "      <td>21</td>\n",
       "      <td>13630842</td>\n",
       "      <td>-97.57</td>\n",
       "      <td>-97.57</td>\n",
       "      <td>0.0</td>\n",
       "      <td>3819.56</td>\n",
       "      <td>23.7.1995</td>\n",
       "      <td>0</td>\n",
       "      <td>P</td>\n",
       "      <td>WD</td>\n",
       "    </tr>\n",
       "    <tr>\n",
       "      <th>3</th>\n",
       "      <td>44</td>\n",
       "      <td>13631412</td>\n",
       "      <td>-0.15</td>\n",
       "      <td>-0.15</td>\n",
       "      <td>0.0</td>\n",
       "      <td>224.05</td>\n",
       "      <td>30.1.1995</td>\n",
       "      <td>0</td>\n",
       "      <td></td>\n",
       "      <td>FK</td>\n",
       "    </tr>\n",
       "    <tr>\n",
       "      <th>4</th>\n",
       "      <td>31</td>\n",
       "      <td>13625722</td>\n",
       "      <td>0.00</td>\n",
       "      <td>0.00</td>\n",
       "      <td>0.0</td>\n",
       "      <td>240.55</td>\n",
       "      <td>25.1.1995</td>\n",
       "      <td>204521</td>\n",
       "      <td>B</td>\n",
       "      <td>IQ</td>\n",
       "    </tr>\n",
       "  </tbody>\n",
       "</table>\n",
       "</div>"
      ],
      "text/plain": [
       "   tran_id  acct_nbr  tran_amt  principal_amt  interest_amt  new_balance  \\\n",
       "0       27  13625623      0.00           0.00           0.0      3753.34   \n",
       "1       97  13628392      0.00           0.00           0.0       254.49   \n",
       "2       21  13630842    -97.57         -97.57           0.0      3819.56   \n",
       "3       44  13631412     -0.15          -0.15           0.0       224.05   \n",
       "4       31  13625722      0.00           0.00           0.0       240.55   \n",
       "\n",
       "    tran_date  tran_time channel tran_code  \n",
       "0  21.10.1995     121656      A       IQ    \n",
       "1    5.2.1995     153053      V       IQ    \n",
       "2   23.7.1995          0      P       WD    \n",
       "3   30.1.1995          0              FK    \n",
       "4   25.1.1995     204521      B       IQ    "
      ]
     },
     "execution_count": 4,
     "metadata": {},
     "output_type": "execute_result"
    }
   ],
   "source": [
    "df.head()"
   ]
  },
  {
   "cell_type": "markdown",
   "metadata": {},
   "source": [
    "### Explore Data\n",
    "---"
   ]
  },
  {
   "cell_type": "code",
   "execution_count": 5,
   "metadata": {},
   "outputs": [],
   "source": [
    "#TODO:\n",
    "# 1 check for nulls\n",
    "# 2 check for duplicates"
   ]
  },
  {
   "cell_type": "code",
   "execution_count": 6,
   "metadata": {},
   "outputs": [
    {
     "data": {
      "text/plain": [
       "tran_id          0\n",
       "acct_nbr         0\n",
       "tran_amt         0\n",
       "principal_amt    0\n",
       "interest_amt     0\n",
       "new_balance      0\n",
       "tran_date        0\n",
       "tran_time        0\n",
       "channel          0\n",
       "tran_code        0\n",
       "dtype: int64"
      ]
     },
     "execution_count": 6,
     "metadata": {},
     "output_type": "execute_result"
    }
   ],
   "source": [
    "# check for nulls and show the sum of nulls in each column\n",
    "df.isnull().sum()"
   ]
  },
  {
   "cell_type": "code",
   "execution_count": 7,
   "metadata": {},
   "outputs": [
    {
     "data": {
      "text/plain": [
       "0"
      ]
     },
     "execution_count": 7,
     "metadata": {},
     "output_type": "execute_result"
    }
   ],
   "source": [
    "# check for duplicates\n",
    "df.duplicated().sum()"
   ]
  },
  {
   "cell_type": "code",
   "execution_count": 8,
   "metadata": {},
   "outputs": [
    {
     "data": {
      "text/plain": [
       "array(['A ', 'V ', 'P ', '  ', 'B ', 'E ', 'K ', 'M ', 'C ', 'H ', 'T '],\n",
       "      dtype=object)"
      ]
     },
     "execution_count": 8,
     "metadata": {},
     "output_type": "execute_result"
    }
   ],
   "source": [
    "# check unique values in channel column and count them\n",
    "df['channel'].unique()"
   ]
  },
  {
   "cell_type": "code",
   "execution_count": 9,
   "metadata": {},
   "outputs": [
    {
     "data": {
      "text/plain": [
       "array(['IQ  ', 'WD  ', 'FK  ', 'CG  ', 'FP  ', 'CA  ', 'IN  ', 'DP  ',\n",
       "       'PM  ', 'TR  ', 'FU  ', 'FA  ', 'FM  '], dtype=object)"
      ]
     },
     "execution_count": 9,
     "metadata": {},
     "output_type": "execute_result"
    }
   ],
   "source": [
    "# check unique values in tran_code column and count them\n",
    "df['tran_code'].unique()"
   ]
  },
  {
   "cell_type": "code",
   "execution_count": 10,
   "metadata": {},
   "outputs": [
    {
     "data": {
      "text/html": [
       "<div>\n",
       "<style scoped>\n",
       "    .dataframe tbody tr th:only-of-type {\n",
       "        vertical-align: middle;\n",
       "    }\n",
       "\n",
       "    .dataframe tbody tr th {\n",
       "        vertical-align: top;\n",
       "    }\n",
       "\n",
       "    .dataframe thead th {\n",
       "        text-align: right;\n",
       "    }\n",
       "</style>\n",
       "<table border=\"1\" class=\"dataframe\">\n",
       "  <thead>\n",
       "    <tr style=\"text-align: right;\">\n",
       "      <th></th>\n",
       "      <th>tran_id</th>\n",
       "      <th>acct_nbr</th>\n",
       "      <th>tran_amt</th>\n",
       "      <th>principal_amt</th>\n",
       "      <th>interest_amt</th>\n",
       "      <th>new_balance</th>\n",
       "      <th>tran_date</th>\n",
       "      <th>tran_time</th>\n",
       "      <th>channel</th>\n",
       "      <th>tran_code</th>\n",
       "    </tr>\n",
       "  </thead>\n",
       "  <tbody>\n",
       "    <tr>\n",
       "      <th>0</th>\n",
       "      <td>27</td>\n",
       "      <td>13625623</td>\n",
       "      <td>0.00</td>\n",
       "      <td>0.00</td>\n",
       "      <td>0.0</td>\n",
       "      <td>3753.34</td>\n",
       "      <td>21.10.1995</td>\n",
       "      <td>121656</td>\n",
       "      <td>A</td>\n",
       "      <td>IQ</td>\n",
       "    </tr>\n",
       "    <tr>\n",
       "      <th>1</th>\n",
       "      <td>97</td>\n",
       "      <td>13628392</td>\n",
       "      <td>0.00</td>\n",
       "      <td>0.00</td>\n",
       "      <td>0.0</td>\n",
       "      <td>254.49</td>\n",
       "      <td>5.2.1995</td>\n",
       "      <td>153053</td>\n",
       "      <td>V</td>\n",
       "      <td>IQ</td>\n",
       "    </tr>\n",
       "    <tr>\n",
       "      <th>2</th>\n",
       "      <td>21</td>\n",
       "      <td>13630842</td>\n",
       "      <td>-97.57</td>\n",
       "      <td>-97.57</td>\n",
       "      <td>0.0</td>\n",
       "      <td>3819.56</td>\n",
       "      <td>23.7.1995</td>\n",
       "      <td>0</td>\n",
       "      <td>P</td>\n",
       "      <td>WD</td>\n",
       "    </tr>\n",
       "    <tr>\n",
       "      <th>3</th>\n",
       "      <td>44</td>\n",
       "      <td>13631412</td>\n",
       "      <td>-0.15</td>\n",
       "      <td>-0.15</td>\n",
       "      <td>0.0</td>\n",
       "      <td>224.05</td>\n",
       "      <td>30.1.1995</td>\n",
       "      <td>0</td>\n",
       "      <td></td>\n",
       "      <td>FK</td>\n",
       "    </tr>\n",
       "    <tr>\n",
       "      <th>4</th>\n",
       "      <td>31</td>\n",
       "      <td>13625722</td>\n",
       "      <td>0.00</td>\n",
       "      <td>0.00</td>\n",
       "      <td>0.0</td>\n",
       "      <td>240.55</td>\n",
       "      <td>25.1.1995</td>\n",
       "      <td>204521</td>\n",
       "      <td>B</td>\n",
       "      <td>IQ</td>\n",
       "    </tr>\n",
       "  </tbody>\n",
       "</table>\n",
       "</div>"
      ],
      "text/plain": [
       "   tran_id  acct_nbr  tran_amt  principal_amt  interest_amt  new_balance  \\\n",
       "0       27  13625623      0.00           0.00           0.0      3753.34   \n",
       "1       97  13628392      0.00           0.00           0.0       254.49   \n",
       "2       21  13630842    -97.57         -97.57           0.0      3819.56   \n",
       "3       44  13631412     -0.15          -0.15           0.0       224.05   \n",
       "4       31  13625722      0.00           0.00           0.0       240.55   \n",
       "\n",
       "    tran_date  tran_time channel tran_code  \n",
       "0  21.10.1995     121656      A       IQ    \n",
       "1    5.2.1995     153053      V       IQ    \n",
       "2   23.7.1995          0      P       WD    \n",
       "3   30.1.1995          0              FK    \n",
       "4   25.1.1995     204521      B       IQ    "
      ]
     },
     "execution_count": 10,
     "metadata": {},
     "output_type": "execute_result"
    }
   ],
   "source": [
    "df.head()"
   ]
  },
  {
   "cell_type": "markdown",
   "metadata": {},
   "source": [
    "### Cleaning up\n",
    "---"
   ]
  },
  {
   "cell_type": "code",
   "execution_count": 11,
   "metadata": {},
   "outputs": [],
   "source": [
    "# drop tran_id column\n",
    "#df.drop('tran_id', axis=1, inplace=True)"
   ]
  },
  {
   "cell_type": "code",
   "execution_count": 12,
   "metadata": {},
   "outputs": [],
   "source": [
    "# drop account_num column\n",
    "#df.drop('acct_nbr', axis=1, inplace=True)"
   ]
  },
  {
   "cell_type": "code",
   "execution_count": 13,
   "metadata": {},
   "outputs": [],
   "source": [
    "# drop tran_date column\n",
    "df.drop('tran_date', axis=1, inplace=True)"
   ]
  },
  {
   "cell_type": "code",
   "execution_count": 14,
   "metadata": {},
   "outputs": [],
   "source": [
    "# Drop tran_time column\n",
    "df.drop('tran_time', axis=1, inplace=True)"
   ]
  },
  {
   "cell_type": "code",
   "execution_count": 15,
   "metadata": {},
   "outputs": [],
   "source": [
    "# drop chanel column\n",
    "df.drop('channel', axis=1, inplace=True)"
   ]
  },
  {
   "cell_type": "code",
   "execution_count": 16,
   "metadata": {},
   "outputs": [],
   "source": [
    "# drop tran_code column\n",
    "df.drop('tran_code', axis=1, inplace=True)"
   ]
  },
  {
   "cell_type": "code",
   "execution_count": 17,
   "metadata": {},
   "outputs": [
    {
     "data": {
      "text/html": [
       "<div>\n",
       "<style scoped>\n",
       "    .dataframe tbody tr th:only-of-type {\n",
       "        vertical-align: middle;\n",
       "    }\n",
       "\n",
       "    .dataframe tbody tr th {\n",
       "        vertical-align: top;\n",
       "    }\n",
       "\n",
       "    .dataframe thead th {\n",
       "        text-align: right;\n",
       "    }\n",
       "</style>\n",
       "<table border=\"1\" class=\"dataframe\">\n",
       "  <thead>\n",
       "    <tr style=\"text-align: right;\">\n",
       "      <th></th>\n",
       "      <th>tran_id</th>\n",
       "      <th>acct_nbr</th>\n",
       "      <th>tran_amt</th>\n",
       "      <th>principal_amt</th>\n",
       "      <th>interest_amt</th>\n",
       "      <th>new_balance</th>\n",
       "    </tr>\n",
       "  </thead>\n",
       "  <tbody>\n",
       "    <tr>\n",
       "      <th>0</th>\n",
       "      <td>27</td>\n",
       "      <td>13625623</td>\n",
       "      <td>0.00</td>\n",
       "      <td>0.00</td>\n",
       "      <td>0.0</td>\n",
       "      <td>3753.34</td>\n",
       "    </tr>\n",
       "    <tr>\n",
       "      <th>1</th>\n",
       "      <td>97</td>\n",
       "      <td>13628392</td>\n",
       "      <td>0.00</td>\n",
       "      <td>0.00</td>\n",
       "      <td>0.0</td>\n",
       "      <td>254.49</td>\n",
       "    </tr>\n",
       "    <tr>\n",
       "      <th>2</th>\n",
       "      <td>21</td>\n",
       "      <td>13630842</td>\n",
       "      <td>-97.57</td>\n",
       "      <td>-97.57</td>\n",
       "      <td>0.0</td>\n",
       "      <td>3819.56</td>\n",
       "    </tr>\n",
       "    <tr>\n",
       "      <th>3</th>\n",
       "      <td>44</td>\n",
       "      <td>13631412</td>\n",
       "      <td>-0.15</td>\n",
       "      <td>-0.15</td>\n",
       "      <td>0.0</td>\n",
       "      <td>224.05</td>\n",
       "    </tr>\n",
       "    <tr>\n",
       "      <th>4</th>\n",
       "      <td>31</td>\n",
       "      <td>13625722</td>\n",
       "      <td>0.00</td>\n",
       "      <td>0.00</td>\n",
       "      <td>0.0</td>\n",
       "      <td>240.55</td>\n",
       "    </tr>\n",
       "  </tbody>\n",
       "</table>\n",
       "</div>"
      ],
      "text/plain": [
       "   tran_id  acct_nbr  tran_amt  principal_amt  interest_amt  new_balance\n",
       "0       27  13625623      0.00           0.00           0.0      3753.34\n",
       "1       97  13628392      0.00           0.00           0.0       254.49\n",
       "2       21  13630842    -97.57         -97.57           0.0      3819.56\n",
       "3       44  13631412     -0.15          -0.15           0.0       224.05\n",
       "4       31  13625722      0.00           0.00           0.0       240.55"
      ]
     },
     "execution_count": 17,
     "metadata": {},
     "output_type": "execute_result"
    }
   ],
   "source": [
    "df.head()"
   ]
  },
  {
   "cell_type": "code",
   "execution_count": 18,
   "metadata": {},
   "outputs": [
    {
     "data": {
      "text/html": [
       "<div>\n",
       "<style scoped>\n",
       "    .dataframe tbody tr th:only-of-type {\n",
       "        vertical-align: middle;\n",
       "    }\n",
       "\n",
       "    .dataframe tbody tr th {\n",
       "        vertical-align: top;\n",
       "    }\n",
       "\n",
       "    .dataframe thead th {\n",
       "        text-align: right;\n",
       "    }\n",
       "</style>\n",
       "<table border=\"1\" class=\"dataframe\">\n",
       "  <thead>\n",
       "    <tr style=\"text-align: right;\">\n",
       "      <th></th>\n",
       "      <th>tran_id</th>\n",
       "      <th>acct_nbr</th>\n",
       "      <th>tran_amt</th>\n",
       "      <th>principal_amt</th>\n",
       "      <th>interest_amt</th>\n",
       "      <th>new_balance</th>\n",
       "    </tr>\n",
       "  </thead>\n",
       "  <tbody>\n",
       "    <tr>\n",
       "      <th>0</th>\n",
       "      <td>27</td>\n",
       "      <td>13625623</td>\n",
       "      <td>0.0</td>\n",
       "      <td>0.0</td>\n",
       "      <td>0.0</td>\n",
       "      <td>3753.34</td>\n",
       "    </tr>\n",
       "    <tr>\n",
       "      <th>1</th>\n",
       "      <td>97</td>\n",
       "      <td>13628392</td>\n",
       "      <td>0.0</td>\n",
       "      <td>0.0</td>\n",
       "      <td>0.0</td>\n",
       "      <td>254.49</td>\n",
       "    </tr>\n",
       "    <tr>\n",
       "      <th>4</th>\n",
       "      <td>31</td>\n",
       "      <td>13625722</td>\n",
       "      <td>0.0</td>\n",
       "      <td>0.0</td>\n",
       "      <td>0.0</td>\n",
       "      <td>240.55</td>\n",
       "    </tr>\n",
       "    <tr>\n",
       "      <th>8</th>\n",
       "      <td>1</td>\n",
       "      <td>13631542</td>\n",
       "      <td>0.0</td>\n",
       "      <td>0.0</td>\n",
       "      <td>0.0</td>\n",
       "      <td>129.88</td>\n",
       "    </tr>\n",
       "    <tr>\n",
       "      <th>10</th>\n",
       "      <td>86</td>\n",
       "      <td>13629022</td>\n",
       "      <td>0.0</td>\n",
       "      <td>0.0</td>\n",
       "      <td>0.0</td>\n",
       "      <td>3.73</td>\n",
       "    </tr>\n",
       "    <tr>\n",
       "      <th>...</th>\n",
       "      <td>...</td>\n",
       "      <td>...</td>\n",
       "      <td>...</td>\n",
       "      <td>...</td>\n",
       "      <td>...</td>\n",
       "      <td>...</td>\n",
       "    </tr>\n",
       "    <tr>\n",
       "      <th>77560</th>\n",
       "      <td>42</td>\n",
       "      <td>4561143213628770</td>\n",
       "      <td>0.0</td>\n",
       "      <td>0.0</td>\n",
       "      <td>0.0</td>\n",
       "      <td>-80.00</td>\n",
       "    </tr>\n",
       "    <tr>\n",
       "      <th>77566</th>\n",
       "      <td>4</td>\n",
       "      <td>13633462</td>\n",
       "      <td>0.0</td>\n",
       "      <td>0.0</td>\n",
       "      <td>0.0</td>\n",
       "      <td>3215.50</td>\n",
       "    </tr>\n",
       "    <tr>\n",
       "      <th>77569</th>\n",
       "      <td>19</td>\n",
       "      <td>13629122</td>\n",
       "      <td>0.0</td>\n",
       "      <td>0.0</td>\n",
       "      <td>0.0</td>\n",
       "      <td>19.82</td>\n",
       "    </tr>\n",
       "    <tr>\n",
       "      <th>77572</th>\n",
       "      <td>31</td>\n",
       "      <td>13632952</td>\n",
       "      <td>0.0</td>\n",
       "      <td>0.0</td>\n",
       "      <td>0.0</td>\n",
       "      <td>0.00</td>\n",
       "    </tr>\n",
       "    <tr>\n",
       "      <th>77579</th>\n",
       "      <td>57</td>\n",
       "      <td>4561143213632570</td>\n",
       "      <td>0.0</td>\n",
       "      <td>0.0</td>\n",
       "      <td>0.0</td>\n",
       "      <td>-2420.91</td>\n",
       "    </tr>\n",
       "  </tbody>\n",
       "</table>\n",
       "<p>10887 rows × 6 columns</p>\n",
       "</div>"
      ],
      "text/plain": [
       "       tran_id          acct_nbr  tran_amt  principal_amt  interest_amt  \\\n",
       "0           27          13625623       0.0            0.0           0.0   \n",
       "1           97          13628392       0.0            0.0           0.0   \n",
       "4           31          13625722       0.0            0.0           0.0   \n",
       "8            1          13631542       0.0            0.0           0.0   \n",
       "10          86          13629022       0.0            0.0           0.0   \n",
       "...        ...               ...       ...            ...           ...   \n",
       "77560       42  4561143213628770       0.0            0.0           0.0   \n",
       "77566        4          13633462       0.0            0.0           0.0   \n",
       "77569       19          13629122       0.0            0.0           0.0   \n",
       "77572       31          13632952       0.0            0.0           0.0   \n",
       "77579       57  4561143213632570       0.0            0.0           0.0   \n",
       "\n",
       "       new_balance  \n",
       "0          3753.34  \n",
       "1           254.49  \n",
       "4           240.55  \n",
       "8           129.88  \n",
       "10            3.73  \n",
       "...            ...  \n",
       "77560       -80.00  \n",
       "77566      3215.50  \n",
       "77569        19.82  \n",
       "77572         0.00  \n",
       "77579     -2420.91  \n",
       "\n",
       "[10887 rows x 6 columns]"
      ]
     },
     "execution_count": 18,
     "metadata": {},
     "output_type": "execute_result"
    }
   ],
   "source": [
    "# delete rows from df where tran_amt, principal_amt, interest_amt is 0\n",
    "df[(df['tran_amt'] == 0) & (df['principal_amt'] == 0) & (df['interest_amt'] == 0)]"
   ]
  },
  {
   "cell_type": "code",
   "execution_count": 19,
   "metadata": {},
   "outputs": [],
   "source": [
    "#  delete rows from df where tran_amt, principal_amt, interest_amt is 0\n",
    "transactions = df[(df['tran_amt'] != 0) | (df['principal_amt'] != 0) | (df['interest_amt'] != 0)]"
   ]
  },
  {
   "cell_type": "code",
   "execution_count": 20,
   "metadata": {},
   "outputs": [],
   "source": [
    "# drop principal_amt, interest_amt, and new_balance columns\n",
    "#transactions.drop('principal_amt', axis=1, inplace=True)\n",
    "#transactions.drop('interest_amt', axis=1, inplace=True)\n",
    "transactions.drop('new_balance', axis=1, inplace=True)\n"
   ]
  },
  {
   "cell_type": "code",
   "execution_count": 21,
   "metadata": {},
   "outputs": [
    {
     "data": {
      "text/html": [
       "<div>\n",
       "<style scoped>\n",
       "    .dataframe tbody tr th:only-of-type {\n",
       "        vertical-align: middle;\n",
       "    }\n",
       "\n",
       "    .dataframe tbody tr th {\n",
       "        vertical-align: top;\n",
       "    }\n",
       "\n",
       "    .dataframe thead th {\n",
       "        text-align: right;\n",
       "    }\n",
       "</style>\n",
       "<table border=\"1\" class=\"dataframe\">\n",
       "  <thead>\n",
       "    <tr style=\"text-align: right;\">\n",
       "      <th></th>\n",
       "      <th>tran_id</th>\n",
       "      <th>acct_nbr</th>\n",
       "      <th>tran_amt</th>\n",
       "      <th>principal_amt</th>\n",
       "      <th>interest_amt</th>\n",
       "    </tr>\n",
       "  </thead>\n",
       "  <tbody>\n",
       "    <tr>\n",
       "      <th>2</th>\n",
       "      <td>21</td>\n",
       "      <td>13630842</td>\n",
       "      <td>-97.57</td>\n",
       "      <td>-97.57</td>\n",
       "      <td>0.0</td>\n",
       "    </tr>\n",
       "    <tr>\n",
       "      <th>3</th>\n",
       "      <td>44</td>\n",
       "      <td>13631412</td>\n",
       "      <td>-0.15</td>\n",
       "      <td>-0.15</td>\n",
       "      <td>0.0</td>\n",
       "    </tr>\n",
       "    <tr>\n",
       "      <th>5</th>\n",
       "      <td>32</td>\n",
       "      <td>13625032</td>\n",
       "      <td>-0.15</td>\n",
       "      <td>-0.15</td>\n",
       "      <td>0.0</td>\n",
       "    </tr>\n",
       "    <tr>\n",
       "      <th>6</th>\n",
       "      <td>60</td>\n",
       "      <td>13631642</td>\n",
       "      <td>-40.00</td>\n",
       "      <td>-40.00</td>\n",
       "      <td>0.0</td>\n",
       "    </tr>\n",
       "    <tr>\n",
       "      <th>7</th>\n",
       "      <td>25</td>\n",
       "      <td>4561143213634590</td>\n",
       "      <td>-420.60</td>\n",
       "      <td>-420.60</td>\n",
       "      <td>0.0</td>\n",
       "    </tr>\n",
       "  </tbody>\n",
       "</table>\n",
       "</div>"
      ],
      "text/plain": [
       "   tran_id          acct_nbr  tran_amt  principal_amt  interest_amt\n",
       "2       21          13630842    -97.57         -97.57           0.0\n",
       "3       44          13631412     -0.15          -0.15           0.0\n",
       "5       32          13625032     -0.15          -0.15           0.0\n",
       "6       60          13631642    -40.00         -40.00           0.0\n",
       "7       25  4561143213634590   -420.60        -420.60           0.0"
      ]
     },
     "execution_count": 21,
     "metadata": {},
     "output_type": "execute_result"
    }
   ],
   "source": [
    "transactions.head()"
   ]
  },
  {
   "cell_type": "code",
   "execution_count": 22,
   "metadata": {},
   "outputs": [],
   "source": [
    "# get absolute value of tran_amt column\n",
    "transactions['tran_amt'] = transactions['tran_amt'].abs()\n"
   ]
  },
  {
   "cell_type": "code",
   "execution_count": 23,
   "metadata": {},
   "outputs": [],
   "source": [
    "transactions['principal_amt'] = transactions['principal_amt'].abs()"
   ]
  },
  {
   "cell_type": "code",
   "execution_count": 24,
   "metadata": {},
   "outputs": [
    {
     "data": {
      "text/html": [
       "<div>\n",
       "<style scoped>\n",
       "    .dataframe tbody tr th:only-of-type {\n",
       "        vertical-align: middle;\n",
       "    }\n",
       "\n",
       "    .dataframe tbody tr th {\n",
       "        vertical-align: top;\n",
       "    }\n",
       "\n",
       "    .dataframe thead th {\n",
       "        text-align: right;\n",
       "    }\n",
       "</style>\n",
       "<table border=\"1\" class=\"dataframe\">\n",
       "  <thead>\n",
       "    <tr style=\"text-align: right;\">\n",
       "      <th></th>\n",
       "      <th>tran_id</th>\n",
       "      <th>acct_nbr</th>\n",
       "      <th>tran_amt</th>\n",
       "      <th>principal_amt</th>\n",
       "      <th>interest_amt</th>\n",
       "    </tr>\n",
       "  </thead>\n",
       "  <tbody>\n",
       "    <tr>\n",
       "      <th>2</th>\n",
       "      <td>21</td>\n",
       "      <td>13630842</td>\n",
       "      <td>97.57</td>\n",
       "      <td>97.57</td>\n",
       "      <td>0.0</td>\n",
       "    </tr>\n",
       "    <tr>\n",
       "      <th>3</th>\n",
       "      <td>44</td>\n",
       "      <td>13631412</td>\n",
       "      <td>0.15</td>\n",
       "      <td>0.15</td>\n",
       "      <td>0.0</td>\n",
       "    </tr>\n",
       "    <tr>\n",
       "      <th>5</th>\n",
       "      <td>32</td>\n",
       "      <td>13625032</td>\n",
       "      <td>0.15</td>\n",
       "      <td>0.15</td>\n",
       "      <td>0.0</td>\n",
       "    </tr>\n",
       "    <tr>\n",
       "      <th>6</th>\n",
       "      <td>60</td>\n",
       "      <td>13631642</td>\n",
       "      <td>40.00</td>\n",
       "      <td>40.00</td>\n",
       "      <td>0.0</td>\n",
       "    </tr>\n",
       "    <tr>\n",
       "      <th>7</th>\n",
       "      <td>25</td>\n",
       "      <td>4561143213634590</td>\n",
       "      <td>420.60</td>\n",
       "      <td>420.60</td>\n",
       "      <td>0.0</td>\n",
       "    </tr>\n",
       "  </tbody>\n",
       "</table>\n",
       "</div>"
      ],
      "text/plain": [
       "   tran_id          acct_nbr  tran_amt  principal_amt  interest_amt\n",
       "2       21          13630842     97.57          97.57           0.0\n",
       "3       44          13631412      0.15           0.15           0.0\n",
       "5       32          13625032      0.15           0.15           0.0\n",
       "6       60          13631642     40.00          40.00           0.0\n",
       "7       25  4561143213634590    420.60         420.60           0.0"
      ]
     },
     "execution_count": 24,
     "metadata": {},
     "output_type": "execute_result"
    }
   ],
   "source": [
    "transactions.head()"
   ]
  },
  {
   "cell_type": "code",
   "execution_count": 25,
   "metadata": {},
   "outputs": [],
   "source": [
    "# create new column called sum_tran_amt, which is the sum of all tran_amt for each account\n",
    "transactions['sum_tran_amt'] = transactions.groupby('acct_nbr')['tran_amt'].transform('sum')\n",
    "transactions['sum_principal_amt'] = transactions.groupby('acct_nbr')['principal_amt'].transform('sum')\n",
    "transactions['sum_interest_amt'] = transactions.groupby('acct_nbr')['interest_amt'].transform('sum')"
   ]
  },
  {
   "cell_type": "code",
   "execution_count": 26,
   "metadata": {},
   "outputs": [
    {
     "data": {
      "text/html": [
       "<div>\n",
       "<style scoped>\n",
       "    .dataframe tbody tr th:only-of-type {\n",
       "        vertical-align: middle;\n",
       "    }\n",
       "\n",
       "    .dataframe tbody tr th {\n",
       "        vertical-align: top;\n",
       "    }\n",
       "\n",
       "    .dataframe thead th {\n",
       "        text-align: right;\n",
       "    }\n",
       "</style>\n",
       "<table border=\"1\" class=\"dataframe\">\n",
       "  <thead>\n",
       "    <tr style=\"text-align: right;\">\n",
       "      <th></th>\n",
       "      <th>tran_id</th>\n",
       "      <th>acct_nbr</th>\n",
       "      <th>tran_amt</th>\n",
       "      <th>principal_amt</th>\n",
       "      <th>interest_amt</th>\n",
       "      <th>sum_tran_amt</th>\n",
       "      <th>sum_principal_amt</th>\n",
       "      <th>sum_interest_amt</th>\n",
       "    </tr>\n",
       "  </thead>\n",
       "  <tbody>\n",
       "    <tr>\n",
       "      <th>2</th>\n",
       "      <td>21</td>\n",
       "      <td>13630842</td>\n",
       "      <td>97.57</td>\n",
       "      <td>97.57</td>\n",
       "      <td>0.0</td>\n",
       "      <td>15921.74</td>\n",
       "      <td>15884.71</td>\n",
       "      <td>37.03</td>\n",
       "    </tr>\n",
       "    <tr>\n",
       "      <th>3</th>\n",
       "      <td>44</td>\n",
       "      <td>13631412</td>\n",
       "      <td>0.15</td>\n",
       "      <td>0.15</td>\n",
       "      <td>0.0</td>\n",
       "      <td>5723.31</td>\n",
       "      <td>5723.31</td>\n",
       "      <td>0.00</td>\n",
       "    </tr>\n",
       "    <tr>\n",
       "      <th>5</th>\n",
       "      <td>32</td>\n",
       "      <td>13625032</td>\n",
       "      <td>0.15</td>\n",
       "      <td>0.15</td>\n",
       "      <td>0.0</td>\n",
       "      <td>6582.43</td>\n",
       "      <td>6568.03</td>\n",
       "      <td>14.40</td>\n",
       "    </tr>\n",
       "    <tr>\n",
       "      <th>6</th>\n",
       "      <td>60</td>\n",
       "      <td>13631642</td>\n",
       "      <td>40.00</td>\n",
       "      <td>40.00</td>\n",
       "      <td>0.0</td>\n",
       "      <td>6674.62</td>\n",
       "      <td>6674.62</td>\n",
       "      <td>0.00</td>\n",
       "    </tr>\n",
       "    <tr>\n",
       "      <th>7</th>\n",
       "      <td>25</td>\n",
       "      <td>4561143213634590</td>\n",
       "      <td>420.60</td>\n",
       "      <td>420.60</td>\n",
       "      <td>0.0</td>\n",
       "      <td>3801.53</td>\n",
       "      <td>3800.66</td>\n",
       "      <td>0.87</td>\n",
       "    </tr>\n",
       "  </tbody>\n",
       "</table>\n",
       "</div>"
      ],
      "text/plain": [
       "   tran_id          acct_nbr  tran_amt  principal_amt  interest_amt  \\\n",
       "2       21          13630842     97.57          97.57           0.0   \n",
       "3       44          13631412      0.15           0.15           0.0   \n",
       "5       32          13625032      0.15           0.15           0.0   \n",
       "6       60          13631642     40.00          40.00           0.0   \n",
       "7       25  4561143213634590    420.60         420.60           0.0   \n",
       "\n",
       "   sum_tran_amt  sum_principal_amt  sum_interest_amt  \n",
       "2      15921.74           15884.71             37.03  \n",
       "3       5723.31            5723.31              0.00  \n",
       "5       6582.43            6568.03             14.40  \n",
       "6       6674.62            6674.62              0.00  \n",
       "7       3801.53            3800.66              0.87  "
      ]
     },
     "execution_count": 26,
     "metadata": {},
     "output_type": "execute_result"
    }
   ],
   "source": [
    "transactions.head()"
   ]
  },
  {
   "cell_type": "markdown",
   "metadata": {},
   "source": []
  },
  {
   "cell_type": "code",
   "execution_count": 27,
   "metadata": {},
   "outputs": [],
   "source": [
    "# create new column called number_of_transactions, which is the count of all tran_amt for each account\n",
    "transactions['number_of_transactions'] = transactions.groupby('acct_nbr')['tran_amt'].transform('count')"
   ]
  },
  {
   "cell_type": "code",
   "execution_count": 28,
   "metadata": {},
   "outputs": [],
   "source": [
    "# return the first row for each account\n",
    "transactions.drop_duplicates(subset='acct_nbr', keep='first', inplace=True)"
   ]
  },
  {
   "cell_type": "code",
   "execution_count": 29,
   "metadata": {},
   "outputs": [
    {
     "data": {
      "text/html": [
       "<div>\n",
       "<style scoped>\n",
       "    .dataframe tbody tr th:only-of-type {\n",
       "        vertical-align: middle;\n",
       "    }\n",
       "\n",
       "    .dataframe tbody tr th {\n",
       "        vertical-align: top;\n",
       "    }\n",
       "\n",
       "    .dataframe thead th {\n",
       "        text-align: right;\n",
       "    }\n",
       "</style>\n",
       "<table border=\"1\" class=\"dataframe\">\n",
       "  <thead>\n",
       "    <tr style=\"text-align: right;\">\n",
       "      <th></th>\n",
       "      <th>tran_id</th>\n",
       "      <th>acct_nbr</th>\n",
       "      <th>tran_amt</th>\n",
       "      <th>principal_amt</th>\n",
       "      <th>interest_amt</th>\n",
       "      <th>sum_tran_amt</th>\n",
       "      <th>sum_principal_amt</th>\n",
       "      <th>sum_interest_amt</th>\n",
       "      <th>number_of_transactions</th>\n",
       "    </tr>\n",
       "  </thead>\n",
       "  <tbody>\n",
       "    <tr>\n",
       "      <th>2</th>\n",
       "      <td>21</td>\n",
       "      <td>13630842</td>\n",
       "      <td>97.57</td>\n",
       "      <td>97.57</td>\n",
       "      <td>0.0</td>\n",
       "      <td>15921.74</td>\n",
       "      <td>15884.71</td>\n",
       "      <td>37.03</td>\n",
       "      <td>78</td>\n",
       "    </tr>\n",
       "    <tr>\n",
       "      <th>3</th>\n",
       "      <td>44</td>\n",
       "      <td>13631412</td>\n",
       "      <td>0.15</td>\n",
       "      <td>0.15</td>\n",
       "      <td>0.0</td>\n",
       "      <td>5723.31</td>\n",
       "      <td>5723.31</td>\n",
       "      <td>0.00</td>\n",
       "      <td>81</td>\n",
       "    </tr>\n",
       "    <tr>\n",
       "      <th>5</th>\n",
       "      <td>32</td>\n",
       "      <td>13625032</td>\n",
       "      <td>0.15</td>\n",
       "      <td>0.15</td>\n",
       "      <td>0.0</td>\n",
       "      <td>6582.43</td>\n",
       "      <td>6568.03</td>\n",
       "      <td>14.40</td>\n",
       "      <td>80</td>\n",
       "    </tr>\n",
       "    <tr>\n",
       "      <th>6</th>\n",
       "      <td>60</td>\n",
       "      <td>13631642</td>\n",
       "      <td>40.00</td>\n",
       "      <td>40.00</td>\n",
       "      <td>0.0</td>\n",
       "      <td>6674.62</td>\n",
       "      <td>6674.62</td>\n",
       "      <td>0.00</td>\n",
       "      <td>87</td>\n",
       "    </tr>\n",
       "    <tr>\n",
       "      <th>7</th>\n",
       "      <td>25</td>\n",
       "      <td>4561143213634590</td>\n",
       "      <td>420.60</td>\n",
       "      <td>420.60</td>\n",
       "      <td>0.0</td>\n",
       "      <td>3801.53</td>\n",
       "      <td>3800.66</td>\n",
       "      <td>0.87</td>\n",
       "      <td>28</td>\n",
       "    </tr>\n",
       "  </tbody>\n",
       "</table>\n",
       "</div>"
      ],
      "text/plain": [
       "   tran_id          acct_nbr  tran_amt  principal_amt  interest_amt  \\\n",
       "2       21          13630842     97.57          97.57           0.0   \n",
       "3       44          13631412      0.15           0.15           0.0   \n",
       "5       32          13625032      0.15           0.15           0.0   \n",
       "6       60          13631642     40.00          40.00           0.0   \n",
       "7       25  4561143213634590    420.60         420.60           0.0   \n",
       "\n",
       "   sum_tran_amt  sum_principal_amt  sum_interest_amt  number_of_transactions  \n",
       "2      15921.74           15884.71             37.03                      78  \n",
       "3       5723.31            5723.31              0.00                      81  \n",
       "5       6582.43            6568.03             14.40                      80  \n",
       "6       6674.62            6674.62              0.00                      87  \n",
       "7       3801.53            3800.66              0.87                      28  "
      ]
     },
     "execution_count": 29,
     "metadata": {},
     "output_type": "execute_result"
    }
   ],
   "source": [
    "transactions.head()"
   ]
  },
  {
   "cell_type": "code",
   "execution_count": 30,
   "metadata": {},
   "outputs": [],
   "source": [
    "# drop tran_amt column\n",
    "transactions.drop('tran_amt', axis=1, inplace=True)"
   ]
  },
  {
   "cell_type": "code",
   "execution_count": 31,
   "metadata": {},
   "outputs": [],
   "source": [
    "# drop tran_id column\n",
    "transactions.drop('tran_id', axis=1, inplace=True)"
   ]
  },
  {
   "cell_type": "code",
   "execution_count": 32,
   "metadata": {},
   "outputs": [],
   "source": [
    "transactions.drop('interest_amt', axis=1, inplace=True)"
   ]
  },
  {
   "cell_type": "code",
   "execution_count": 33,
   "metadata": {},
   "outputs": [],
   "source": [
    "transactions.drop('principal_amt', axis=1, inplace=True)"
   ]
  },
  {
   "cell_type": "code",
   "execution_count": 34,
   "metadata": {},
   "outputs": [
    {
     "data": {
      "text/html": [
       "<div>\n",
       "<style scoped>\n",
       "    .dataframe tbody tr th:only-of-type {\n",
       "        vertical-align: middle;\n",
       "    }\n",
       "\n",
       "    .dataframe tbody tr th {\n",
       "        vertical-align: top;\n",
       "    }\n",
       "\n",
       "    .dataframe thead th {\n",
       "        text-align: right;\n",
       "    }\n",
       "</style>\n",
       "<table border=\"1\" class=\"dataframe\">\n",
       "  <thead>\n",
       "    <tr style=\"text-align: right;\">\n",
       "      <th></th>\n",
       "      <th>acct_nbr</th>\n",
       "      <th>sum_tran_amt</th>\n",
       "      <th>sum_principal_amt</th>\n",
       "      <th>sum_interest_amt</th>\n",
       "      <th>number_of_transactions</th>\n",
       "    </tr>\n",
       "  </thead>\n",
       "  <tbody>\n",
       "    <tr>\n",
       "      <th>2</th>\n",
       "      <td>13630842</td>\n",
       "      <td>15921.74</td>\n",
       "      <td>15884.71</td>\n",
       "      <td>37.03</td>\n",
       "      <td>78</td>\n",
       "    </tr>\n",
       "    <tr>\n",
       "      <th>3</th>\n",
       "      <td>13631412</td>\n",
       "      <td>5723.31</td>\n",
       "      <td>5723.31</td>\n",
       "      <td>0.00</td>\n",
       "      <td>81</td>\n",
       "    </tr>\n",
       "    <tr>\n",
       "      <th>5</th>\n",
       "      <td>13625032</td>\n",
       "      <td>6582.43</td>\n",
       "      <td>6568.03</td>\n",
       "      <td>14.40</td>\n",
       "      <td>80</td>\n",
       "    </tr>\n",
       "    <tr>\n",
       "      <th>6</th>\n",
       "      <td>13631642</td>\n",
       "      <td>6674.62</td>\n",
       "      <td>6674.62</td>\n",
       "      <td>0.00</td>\n",
       "      <td>87</td>\n",
       "    </tr>\n",
       "    <tr>\n",
       "      <th>7</th>\n",
       "      <td>4561143213634590</td>\n",
       "      <td>3801.53</td>\n",
       "      <td>3800.66</td>\n",
       "      <td>0.87</td>\n",
       "      <td>28</td>\n",
       "    </tr>\n",
       "  </tbody>\n",
       "</table>\n",
       "</div>"
      ],
      "text/plain": [
       "           acct_nbr  sum_tran_amt  sum_principal_amt  sum_interest_amt  \\\n",
       "2          13630842      15921.74           15884.71             37.03   \n",
       "3          13631412       5723.31            5723.31              0.00   \n",
       "5          13625032       6582.43            6568.03             14.40   \n",
       "6          13631642       6674.62            6674.62              0.00   \n",
       "7  4561143213634590       3801.53            3800.66              0.87   \n",
       "\n",
       "   number_of_transactions  \n",
       "2                      78  \n",
       "3                      81  \n",
       "5                      80  \n",
       "6                      87  \n",
       "7                      28  "
      ]
     },
     "execution_count": 34,
     "metadata": {},
     "output_type": "execute_result"
    }
   ],
   "source": [
    "transactions.head()"
   ]
  },
  {
   "cell_type": "markdown",
   "metadata": {},
   "source": [
    "### Export Dataframes to CSV\n",
    "---"
   ]
  },
  {
   "cell_type": "code",
   "execution_count": 36,
   "metadata": {},
   "outputs": [],
   "source": [
    "# export to csv\n",
    "transactions.to_csv('data/transactions_clean.csv', index=False)"
   ]
  },
  {
   "cell_type": "code",
   "execution_count": 37,
   "metadata": {},
   "outputs": [],
   "source": [
    "from copy import deepcopy"
   ]
  },
  {
   "cell_type": "markdown",
   "metadata": {},
   "source": [
    "### EDA\n",
    "---"
   ]
  },
  {
   "cell_type": "code",
   "execution_count": 38,
   "metadata": {},
   "outputs": [],
   "source": [
    "df = transactions.copy(deep=True)"
   ]
  },
  {
   "cell_type": "code",
   "execution_count": 39,
   "metadata": {},
   "outputs": [],
   "source": [
    "# TODO:\n",
    "# 1. check distribution\n",
    "# 2. check for outliers\n",
    "# 3. check for skewness\n",
    "# 4. check for correlation\n",
    "# 5. check for multicollinearity\n",
    "# 6. check for normality\n"
   ]
  },
  {
   "cell_type": "code",
   "execution_count": 40,
   "metadata": {},
   "outputs": [
    {
     "data": {
      "text/html": [
       "<div>\n",
       "<style scoped>\n",
       "    .dataframe tbody tr th:only-of-type {\n",
       "        vertical-align: middle;\n",
       "    }\n",
       "\n",
       "    .dataframe tbody tr th {\n",
       "        vertical-align: top;\n",
       "    }\n",
       "\n",
       "    .dataframe thead th {\n",
       "        text-align: right;\n",
       "    }\n",
       "</style>\n",
       "<table border=\"1\" class=\"dataframe\">\n",
       "  <thead>\n",
       "    <tr style=\"text-align: right;\">\n",
       "      <th></th>\n",
       "      <th>acct_nbr</th>\n",
       "      <th>sum_tran_amt</th>\n",
       "      <th>sum_principal_amt</th>\n",
       "      <th>sum_interest_amt</th>\n",
       "      <th>number_of_transactions</th>\n",
       "    </tr>\n",
       "  </thead>\n",
       "  <tbody>\n",
       "    <tr>\n",
       "      <th>acct_nbr</th>\n",
       "      <td>1.000000</td>\n",
       "      <td>0.185578</td>\n",
       "      <td>0.181289</td>\n",
       "      <td>0.413258</td>\n",
       "      <td>-0.192319</td>\n",
       "    </tr>\n",
       "    <tr>\n",
       "      <th>sum_tran_amt</th>\n",
       "      <td>0.185578</td>\n",
       "      <td>1.000000</td>\n",
       "      <td>0.999935</td>\n",
       "      <td>0.273655</td>\n",
       "      <td>0.596136</td>\n",
       "    </tr>\n",
       "    <tr>\n",
       "      <th>sum_principal_amt</th>\n",
       "      <td>0.181289</td>\n",
       "      <td>0.999935</td>\n",
       "      <td>1.000000</td>\n",
       "      <td>0.262693</td>\n",
       "      <td>0.599277</td>\n",
       "    </tr>\n",
       "    <tr>\n",
       "      <th>sum_interest_amt</th>\n",
       "      <td>0.413258</td>\n",
       "      <td>0.273655</td>\n",
       "      <td>0.262693</td>\n",
       "      <td>1.000000</td>\n",
       "      <td>-0.105778</td>\n",
       "    </tr>\n",
       "    <tr>\n",
       "      <th>number_of_transactions</th>\n",
       "      <td>-0.192319</td>\n",
       "      <td>0.596136</td>\n",
       "      <td>0.599277</td>\n",
       "      <td>-0.105778</td>\n",
       "      <td>1.000000</td>\n",
       "    </tr>\n",
       "  </tbody>\n",
       "</table>\n",
       "</div>"
      ],
      "text/plain": [
       "                        acct_nbr  sum_tran_amt  sum_principal_amt  \\\n",
       "acct_nbr                1.000000      0.185578           0.181289   \n",
       "sum_tran_amt            0.185578      1.000000           0.999935   \n",
       "sum_principal_amt       0.181289      0.999935           1.000000   \n",
       "sum_interest_amt        0.413258      0.273655           0.262693   \n",
       "number_of_transactions -0.192319      0.596136           0.599277   \n",
       "\n",
       "                        sum_interest_amt  number_of_transactions  \n",
       "acct_nbr                        0.413258               -0.192319  \n",
       "sum_tran_amt                    0.273655                0.596136  \n",
       "sum_principal_amt               0.262693                0.599277  \n",
       "sum_interest_amt                1.000000               -0.105778  \n",
       "number_of_transactions         -0.105778                1.000000  "
      ]
     },
     "execution_count": 40,
     "metadata": {},
     "output_type": "execute_result"
    }
   ],
   "source": [
    "# check distribution \n",
    "df.corr()"
   ]
  },
  {
   "cell_type": "code",
   "execution_count": 41,
   "metadata": {},
   "outputs": [
    {
     "data": {
      "image/png": "[encoded data removed]",
      "text/plain": [
       "<Figure size 2000x1000 with 2 Axes>"
      ]
     },
     "metadata": {},
     "output_type": "display_data"
    }
   ],
   "source": [
    "# correlation heatmap\n",
    "plt.figure(figsize=(20,10))\n",
    "sns.heatmap(df.corr(), annot=True, cmap='coolwarm')\n",
    "plt.show()\n"
   ]
  },
  {
   "cell_type": "code",
   "execution_count": 42,
   "metadata": {},
   "outputs": [
    {
     "data": {
      "image/png": "[encoded data removed]",
      "text/plain": [
       "<Figure size 2000x1000 with 1 Axes>"
      ]
     },
     "metadata": {},
     "output_type": "display_data"
    }
   ],
   "source": [
    "# box plot for sum_tran_amt\n",
    "plt.figure(figsize=(20,10))\n",
    "sns.boxplot(x='sum_tran_amt', data=df)\n",
    "plt.show()\n"
   ]
  },
  {
   "cell_type": "code",
   "execution_count": 43,
   "metadata": {},
   "outputs": [
    {
     "data": {
      "image/png": "[encoded data removed]",
      "text/plain": [
       "<Figure size 2000x1000 with 1 Axes>"
      ]
     },
     "metadata": {},
     "output_type": "display_data"
    }
   ],
   "source": [
    "# box plot for number_of_transactions\n",
    "plt.figure(figsize=(20,10))\n",
    "sns.boxplot(x='number_of_transactions', data=df)\n",
    "plt.show()\n"
   ]
  },
  {
   "cell_type": "code",
   "execution_count": 44,
   "metadata": {},
   "outputs": [
    {
     "data": {
      "image/png": "[encoded data removed]",
      "text/plain": [
       "<Figure size 2000x1000 with 1 Axes>"
      ]
     },
     "metadata": {},
     "output_type": "display_data"
    }
   ],
   "source": [
    "# plot histogram for sum_tran_amt\n",
    "plt.figure(figsize=(20,10))\n",
    "sns.distplot(df['sum_tran_amt'])\n",
    "plt.show()\n"
   ]
  },
  {
   "cell_type": "code",
   "execution_count": 45,
   "metadata": {},
   "outputs": [
    {
     "data": {
      "image/png": "[encoded data removed]",
      "text/plain": [
       "<Figure size 2000x1000 with 1 Axes>"
      ]
     },
     "metadata": {},
     "output_type": "display_data"
    }
   ],
   "source": [
    "# histogram for number_of_transactions\n",
    "plt.figure(figsize=(20,10))\n",
    "sns.distplot(df['number_of_transactions'])\n",
    "plt.show()\n"
   ]
  },
  {
   "cell_type": "markdown",
   "metadata": {},
   "source": [
    "### Scaling "
   ]
  },
  {
   "cell_type": "code",
   "execution_count": 46,
   "metadata": {},
   "outputs": [
    {
     "data": {
      "text/html": [
       "<div>\n",
       "<style scoped>\n",
       "    .dataframe tbody tr th:only-of-type {\n",
       "        vertical-align: middle;\n",
       "    }\n",
       "\n",
       "    .dataframe tbody tr th {\n",
       "        vertical-align: top;\n",
       "    }\n",
       "\n",
       "    .dataframe thead th {\n",
       "        text-align: right;\n",
       "    }\n",
       "</style>\n",
       "<table border=\"1\" class=\"dataframe\">\n",
       "  <thead>\n",
       "    <tr style=\"text-align: right;\">\n",
       "      <th></th>\n",
       "      <th>acct_nbr</th>\n",
       "      <th>sum_tran_amt</th>\n",
       "      <th>sum_principal_amt</th>\n",
       "      <th>sum_interest_amt</th>\n",
       "      <th>number_of_transactions</th>\n",
       "    </tr>\n",
       "  </thead>\n",
       "  <tbody>\n",
       "    <tr>\n",
       "      <th>2</th>\n",
       "      <td>13630842</td>\n",
       "      <td>15921.74</td>\n",
       "      <td>15884.71</td>\n",
       "      <td>37.03</td>\n",
       "      <td>78</td>\n",
       "    </tr>\n",
       "    <tr>\n",
       "      <th>3</th>\n",
       "      <td>13631412</td>\n",
       "      <td>5723.31</td>\n",
       "      <td>5723.31</td>\n",
       "      <td>0.00</td>\n",
       "      <td>81</td>\n",
       "    </tr>\n",
       "    <tr>\n",
       "      <th>5</th>\n",
       "      <td>13625032</td>\n",
       "      <td>6582.43</td>\n",
       "      <td>6568.03</td>\n",
       "      <td>14.40</td>\n",
       "      <td>80</td>\n",
       "    </tr>\n",
       "    <tr>\n",
       "      <th>6</th>\n",
       "      <td>13631642</td>\n",
       "      <td>6674.62</td>\n",
       "      <td>6674.62</td>\n",
       "      <td>0.00</td>\n",
       "      <td>87</td>\n",
       "    </tr>\n",
       "    <tr>\n",
       "      <th>7</th>\n",
       "      <td>4561143213634590</td>\n",
       "      <td>3801.53</td>\n",
       "      <td>3800.66</td>\n",
       "      <td>0.87</td>\n",
       "      <td>28</td>\n",
       "    </tr>\n",
       "  </tbody>\n",
       "</table>\n",
       "</div>"
      ],
      "text/plain": [
       "           acct_nbr  sum_tran_amt  sum_principal_amt  sum_interest_amt  \\\n",
       "2          13630842      15921.74           15884.71             37.03   \n",
       "3          13631412       5723.31            5723.31              0.00   \n",
       "5          13625032       6582.43            6568.03             14.40   \n",
       "6          13631642       6674.62            6674.62              0.00   \n",
       "7  4561143213634590       3801.53            3800.66              0.87   \n",
       "\n",
       "   number_of_transactions  \n",
       "2                      78  \n",
       "3                      81  \n",
       "5                      80  \n",
       "6                      87  \n",
       "7                      28  "
      ]
     },
     "execution_count": 46,
     "metadata": {},
     "output_type": "execute_result"
    }
   ],
   "source": [
    "df.head()"
   ]
  },
  {
   "cell_type": "code",
   "execution_count": 47,
   "metadata": {},
   "outputs": [],
   "source": [
    "# drop acct_nbr column\n",
    "df.drop('acct_nbr', axis=1, inplace=True)"
   ]
  },
  {
   "cell_type": "code",
   "execution_count": 48,
   "metadata": {},
   "outputs": [],
   "source": [
    "# TODO:\n",
    "#1. scale sum_tran_amt and number_of_transactions columns using StandardScaler\n",
    "#2. use PCA to reduce the number of features to 2\n",
    "#3. plot the PCA components\n"
   ]
  },
  {
   "cell_type": "code",
   "execution_count": 49,
   "metadata": {},
   "outputs": [
    {
     "data": {
      "text/html": [
       "<div>\n",
       "<style scoped>\n",
       "    .dataframe tbody tr th:only-of-type {\n",
       "        vertical-align: middle;\n",
       "    }\n",
       "\n",
       "    .dataframe tbody tr th {\n",
       "        vertical-align: top;\n",
       "    }\n",
       "\n",
       "    .dataframe thead th {\n",
       "        text-align: right;\n",
       "    }\n",
       "</style>\n",
       "<table border=\"1\" class=\"dataframe\">\n",
       "  <thead>\n",
       "    <tr style=\"text-align: right;\">\n",
       "      <th></th>\n",
       "      <th>sum_tran_amt</th>\n",
       "      <th>sum_principal_amt</th>\n",
       "      <th>sum_interest_amt</th>\n",
       "      <th>number_of_transactions</th>\n",
       "    </tr>\n",
       "  </thead>\n",
       "  <tbody>\n",
       "    <tr>\n",
       "      <th>2</th>\n",
       "      <td>1.032618</td>\n",
       "      <td>1.036560</td>\n",
       "      <td>-0.057195</td>\n",
       "      <td>1.119723</td>\n",
       "    </tr>\n",
       "    <tr>\n",
       "      <th>3</th>\n",
       "      <td>-0.258770</td>\n",
       "      <td>-0.254219</td>\n",
       "      <td>-0.454561</td>\n",
       "      <td>1.230734</td>\n",
       "    </tr>\n",
       "    <tr>\n",
       "      <th>5</th>\n",
       "      <td>-0.149983</td>\n",
       "      <td>-0.146917</td>\n",
       "      <td>-0.300036</td>\n",
       "      <td>1.193730</td>\n",
       "    </tr>\n",
       "    <tr>\n",
       "      <th>6</th>\n",
       "      <td>-0.138309</td>\n",
       "      <td>-0.133377</td>\n",
       "      <td>-0.454561</td>\n",
       "      <td>1.452755</td>\n",
       "    </tr>\n",
       "    <tr>\n",
       "      <th>7</th>\n",
       "      <td>-0.502117</td>\n",
       "      <td>-0.498449</td>\n",
       "      <td>-0.445225</td>\n",
       "      <td>-0.730457</td>\n",
       "    </tr>\n",
       "  </tbody>\n",
       "</table>\n",
       "</div>"
      ],
      "text/plain": [
       "   sum_tran_amt  sum_principal_amt  sum_interest_amt  number_of_transactions\n",
       "2      1.032618           1.036560         -0.057195                1.119723\n",
       "3     -0.258770          -0.254219         -0.454561                1.230734\n",
       "5     -0.149983          -0.146917         -0.300036                1.193730\n",
       "6     -0.138309          -0.133377         -0.454561                1.452755\n",
       "7     -0.502117          -0.498449         -0.445225               -0.730457"
      ]
     },
     "execution_count": 49,
     "metadata": {},
     "output_type": "execute_result"
    }
   ],
   "source": [
    "#1. scale sum_tran_amt and number_of_transactions columns using StandardScaler\n",
    "from sklearn.preprocessing import StandardScaler\n",
    "sc = StandardScaler()\n",
    "df[['sum_tran_amt', 'number_of_transactions', 'sum_principal_amt', 'sum_interest_amt']] = sc.fit_transform(df[['sum_tran_amt', 'number_of_transactions', 'sum_principal_amt', 'sum_interest_amt']])\n",
    "df.head()"
   ]
  },
  {
   "cell_type": "code",
   "execution_count": 50,
   "metadata": {},
   "outputs": [],
   "source": [
    "# Export to csv\n",
    "df.to_csv('data/transactions_scaled.csv', index=False)"
   ]
  }
 ],
 "metadata": {
  "kernelspec": {
   "display_name": "Python 3 (ipykernel)",
   "language": "python",
   "name": "python3"
  },
  "language_info": {
   "codemirror_mode": {
    "name": "ipython",
    "version": 3
   },
   "file_extension": ".py",
   "mimetype": "text/x-python",
   "name": "python",
   "nbconvert_exporter": "python",
   "pygments_lexer": "ipython3",
   "version": "3.10.9"
  }
 },
 "nbformat": 4,
 "nbformat_minor": 4
}
